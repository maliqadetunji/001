{
 "cells": [
  {
   "cell_type": "markdown",
   "metadata": {
    "collapsed": true
   },
   "source": [
    "# My Jupyter Notebook on IBM Watson Studio"
   ]
  },
  {
   "cell_type": "markdown",
   "metadata": {},
   "source": [
    "**Al-Maliq Adetunji**<br>\n",
    "Particle Physicist"
   ]
  },
  {
   "cell_type": "markdown",
   "metadata": {},
   "source": [
    "_I am interested in data science because of its application to the study of fundamental particles. <br>\n",
    "Large amounts of data are generated after particle physics experiments and through their analyses, different properties are discovered_"
   ]
  },
  {
   "cell_type": "markdown",
   "metadata": {},
   "source": [
    "### The following code calculates and prints the square of numbers from 2 to 4"
   ]
  },
  {
   "cell_type": "code",
   "execution_count": 4,
   "metadata": {},
   "outputs": [
    {
     "name": "stdout",
     "output_type": "stream",
     "text": [
      "2^2 =  4\n",
      "3^2 =  9\n",
      "4^2 =  16\n"
     ]
    }
   ],
   "source": [
    "for i in range(2,5):\n",
    "    print(f'{i}^2 = ',i**2)"
   ]
  },
  {
   "cell_type": "markdown",
   "metadata": {},
   "source": [
    "<a href=\"https://www.nasa.gov/multimedia/imagegallery/index.html\">NASA IMAGES</a> <br>\n",
    "\n",
    "A **bulleted** list of stars close to earth\n",
    "<ul>\n",
    "    <li>Sun</li>\n",
    "    <li>Proxima Centauri</li>\n",
    "    <li>Sirius</li>\n",
    "</ul>\n",
    "\n",
    "| Languages | Countries | Sports |\n",
    "| ------ | ------ | ------ |\n",
    "| Spanish | Spain | Football |\n",
    "| Hindi | India | Cricket |\n",
    "| Swahili | Kenya | Marathon |\n",
    "\n",
    "___\n",
    "\n",
    "Between 2 horizontal rules\n",
    "\n",
    "***\n",
    "\n",
    "![Do you like nature?](https://www.pixelstalk.net/wp-content/uploads/2016/04/Big-ocean-waves-wallpapers-HD-620x388.jpg \"Water Waves\")"
   ]
  }
 ],
 "metadata": {
  "kernelspec": {
   "display_name": "Python 3.9",
   "language": "python",
   "name": "python3"
  },
  "language_info": {
   "codemirror_mode": {
    "name": "ipython",
    "version": 3
   },
   "file_extension": ".py",
   "mimetype": "text/x-python",
   "name": "python",
   "nbconvert_exporter": "python",
   "pygments_lexer": "ipython3",
   "version": "3.9.13"
  }
 },
 "nbformat": 4,
 "nbformat_minor": 1
}
